{
  "nbformat": 4,
  "nbformat_minor": 0,
  "metadata": {
    "colab": {
      "provenance": []
    },
    "kernelspec": {
      "name": "python3",
      "display_name": "Python 3"
    },
    "language_info": {
      "name": "python"
    }
  },
  "cells": [
    {
      "cell_type": "markdown",
      "source": [
        "# Use for loop, split(), and if to create a Statement that will print out words that start with &#39;s&#39;:\n",
        "For Example:\n",
        "str = &#39;Print only the words that start with s in this sentence&#39;\n",
        "Output:\n",
        "start\n",
        "s\n",
        "sentence"
      ],
      "metadata": {
        "id": "tQQ2837wwXc5"
      }
    },
    {
      "cell_type": "code",
      "source": [
        "n = input(\"Enter a String \")\n",
        "print(n)\n",
        "var = (len(n))\n",
        "print(var)\n",
        "for i in n.split():\n",
        "    if i.startswith('s'):\n",
        "        print(i)"
      ],
      "metadata": {
        "id": "AKBx-aJTwCdo"
      },
      "execution_count": null,
      "outputs": []
    },
    {
      "cell_type": "markdown",
      "source": [
        "## Use range() to print all the even numbers from 0 to 10."
      ],
      "metadata": {
        "id": "sh8Up2F0wqC4"
      }
    },
    {
      "cell_type": "code",
      "source": [
        "x = range(10)\n",
        "for i in x:\n",
        "  if i%2==0:\n",
        "   print(i)"
      ],
      "metadata": {
        "id": "YZpQL9DFwEDc"
      },
      "execution_count": null,
      "outputs": []
    },
    {
      "cell_type": "markdown",
      "source": [
        "# Use List comprehension to create a list of all numbers between 1 and 50 that are divisible by 3."
      ],
      "metadata": {
        "id": "lfxZbkNDwwo_"
      }
    },
    {
      "cell_type": "code",
      "source": [
        "x = range(50)\n",
        "s=[]\n",
        "for i in x:\n",
        "    if i%3==0:\n",
        "        s.append(i)\n",
        "\n",
        "print(s)"
      ],
      "metadata": {
        "id": "3Slmo6mnwHWC"
      },
      "execution_count": null,
      "outputs": []
    },
    {
      "cell_type": "markdown",
      "source": [
        "# Write a Python function that accepts a string and calculate the number of upper case letters and lower case letters.\n",
        "Sample String : &#39;Hello Mr. Rogers, how are you this fine Tuesday?&#39;\n",
        "\n",
        "Expected Output :\n",
        "\n",
        "No. of Upper case characters : 4\n",
        "\n",
        "No. of Lower case Characters : 33"
      ],
      "metadata": {
        "id": "uHDKEYkew2Hl"
      }
    },
    {
      "cell_type": "code",
      "source": [
        "n=input(\"Enter A String\")\n",
        "var=len(n)\n",
        "print(n)\n",
        "uper=0\n",
        "lower=0\n",
        "for i in n:\n",
        "   if i.isupper():\n",
        "       uper=uper+1\n",
        "   elif i.islower():\n",
        "      lower=lower+1\n",
        "print(uper)\n",
        "print(lower)"
      ],
      "metadata": {
        "id": "qsRIjcWmwJQ0"
      },
      "execution_count": null,
      "outputs": []
    },
    {
      "cell_type": "markdown",
      "source": [
        "# Write a program that prints the integers from 1 to 100. But for multiples of three print &quot;Fizz&quot; instead of the number, and for the multiples of five print &quot;Buzz&quot;. For numbers which are multiples of both three and five print &quot;FizzBuzz&quot;."
      ],
      "metadata": {
        "id": "WCDsmRa0xCSU"
      }
    },
    {
      "cell_type": "code",
      "source": [
        "x= range(100)\n",
        "for i in x:\n",
        "    if i % 3 == 0 and i % 5 == 0:\n",
        "        print(\"FizzBuzz\")\n",
        "    elif i%3==0:\n",
        "        print(\"Fizz\")\n",
        "    elif i%5==0:\n",
        "        print(\"Buzz\")\n",
        "    else:\n",
        "        print(i)"
      ],
      "metadata": {
        "id": "TnkZ-LlbwLDH"
      },
      "execution_count": null,
      "outputs": []
    },
    {
      "cell_type": "markdown",
      "source": [
        "# Use List Comprehension to create a list of the first letters of every word in the string below: str = &#39;Create a list of the first letters of every word in this string&#39;\n",
        "Output:\n",
        "[&#39;C&#39;, &#39;a&#39;, &#39;l&#39;, &#39;o&#39;, &#39;t&#39;, &#39;f&#39;, &#39;l&#39;, &#39;o&#39;, &#39;e&#39;, &#39;w&#39;, &#39;i&#39;, &#39;t&#39;, &#39;s&#39;]"
      ],
      "metadata": {
        "id": "G2V7eObbxHb7"
      }
    },
    {
      "cell_type": "code",
      "source": [
        "x = input(\"Enter a String \")\n",
        "print(x)\n",
        "list = [ word[0] for word in x.split()]\n",
        "print(list)"
      ],
      "metadata": {
        "id": "zg0ltxffwMcz"
      },
      "execution_count": null,
      "outputs": []
    },
    {
      "cell_type": "markdown",
      "source": [
        "# Reverse the string &#39;hello&#39; using indexing:"
      ],
      "metadata": {
        "id": "6Thnfb5YxNKb"
      }
    },
    {
      "cell_type": "code",
      "source": [
        "x=input(\"Enter a String \")\n",
        "print(x)\n",
        "var=x[::-1]\n",
        "print (var)"
      ],
      "metadata": {
        "id": "oCwF6i9ewOKC"
      },
      "execution_count": null,
      "outputs": []
    },
    {
      "cell_type": "markdown",
      "source": [
        "# Using keys and indexing, grab the &#39;hello&#39; from the following dictionaries:\n",
        "d = {&#39;simple_key&#39;:&#39;hello&#39;}\n",
        "\n",
        "d = {&#39;k1&#39;:{&#39;k2&#39;:&#39;hello&#39;}}\n",
        "\n",
        "d = {&#39;k1&#39;:[{&#39;nest_key&#39;:[&#39;this is deep&#39;,[&#39;hello&#39;]]}]}"
      ],
      "metadata": {
        "id": "_d6-ZGa6xRvD"
      }
    },
    {
      "cell_type": "code",
      "source": [
        "d1 = {'simple_key': 'hello'}\n",
        "d2 = {'k1': {'k2': 'hello'}}\n",
        "d3 = {'k1': [{'nest_key': ['this is deep', ['hello']]}]}\n",
        "\n",
        "print(d1['simple_key'])\n",
        "print(d2['k1']['k2'])\n",
        "print(d3['k1'][0]['nest_key'][1][0])"
      ],
      "metadata": {
        "id": "a5dOlcocwPjR"
      },
      "execution_count": null,
      "outputs": []
    },
    {
      "cell_type": "markdown",
      "source": [
        "# Write a python Class that accepts a tuple, has two instance variables, setter and getter methods and also these methods to compute results accordingly\n",
        "\n",
        "def Addition(tup )\n",
        "\n",
        "def Subtraction (tup)\n",
        "\n",
        "def Multiplication(tup)\n",
        "\n",
        "def Division(tup )\n",
        "\n",
        "def Power(tup)\n",
        "\n",
        "Ask from user “Enter A if you want to do the addition, S for subtraction, M for multiplication, D for Division and P for power”. And print result accordingly. Please make this class in a separate py file and then import it into the driver program to use the functions of this class as a module."
      ],
      "metadata": {
        "id": "relEMa0Fxe05"
      }
    },
    {
      "cell_type": "code",
      "source": [
        "class Tup:\n",
        "    def _init_(self, tuple1=0, tuple2=0):\n",
        "        self.tuple1 = tuple1\n",
        "        self.tuple2 = tuple2\n",
        "\n",
        "    def set_tuple1(self, tuple1):\n",
        "        self.tuple1 = tuple1\n",
        "\n",
        "    def get_tuple1(self):\n",
        "        return self.tuple1\n",
        "\n",
        "    def set_tuple2(self, tuple2):\n",
        "        self.tuple2 = tuple2\n",
        "\n",
        "    def get_tuple2(self):\n",
        "        return self.tuple2\n",
        "\n",
        "    def add(self, tuple1, tuple2):\n",
        "        my_result = tuple(map(lambda i, j: i + j, tuple1, tuple2))\n",
        "        print(f'Addition: ', my_result)\n",
        "\n",
        "    def sub(self, tuple1, tuple2):\n",
        "        my_result = tuple(map(lambda i, j: i - j, tuple1, tuple2))\n",
        "        print(f'Subtraction: ', my_result)\n",
        "\n",
        "    def multi(self, tuple1, tuple2):\n",
        "        my_result = tuple(map(lambda i, j: i * j, tuple1, tuple2))\n",
        "        print(f'Multiplication: ', my_result)\n",
        "\n",
        "    def div(self, tuple1, tuple2):\n",
        "        my_result = tuple(map(lambda i, j: i // j, tuple1, tuple2))\n",
        "        print(f'Division: ', my_result)\n",
        "\n",
        "    def Power(self, tuple1, tuple2):\n",
        "        my_result = tuple(map(lambda i, j: i ** j, tuple1, tuple2))\n",
        "        print(f'Power: ', my_result)\n",
        "\n",
        "\n",
        "tup1 = (16, 62, 182)\n",
        "tup2 = (4, 2, 4)\n",
        "\n",
        "a = Tup()\n",
        "b = Tup()\n",
        "c = Tup()\n",
        "\n",
        "a = input('Enter A for Addition \\nS for Subtraction \\nM for Multiplication \\nD for Division \\nP for Power \\nInput: ')\n",
        "\n",
        "if a.upper() == 'A':\n",
        "    c.add(tup1, tup2)\n",
        "elif a.upper() == 'S':\n",
        "    c.sub(tup1, tup2)\n",
        "elif a.upper() == 'M':\n",
        "    c.multi(tup1, tup2)\n",
        "elif a.upper() == 'D':\n",
        "    c.div(tup1, tup2)\n",
        "elif a.upper() == 'P':\n",
        "    c.Power(tup1, tup2)\n",
        "else:\n",
        "    print('Wrong Input')"
      ],
      "metadata": {
        "id": "Le7JgJ5YwSs-"
      },
      "execution_count": null,
      "outputs": []
    },
    {
      "cell_type": "markdown",
      "source": [
        "# Create a generator that generates the squares of numbers up to some number N."
      ],
      "metadata": {
        "id": "I4CQUBaFxrHZ"
      }
    },
    {
      "cell_type": "code",
      "execution_count": null,
      "metadata": {
        "id": "w27zG1vhwBGC"
      },
      "outputs": [],
      "source": [
        "def gensquares(N):\n",
        " for i in range(N):\n",
        "    yield i**2\n",
        "\n",
        "for x in gensquares(10):\n",
        "    print(x)\n"
      ]
    }
  ]
}