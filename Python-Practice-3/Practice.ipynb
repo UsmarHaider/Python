{
 "cells": [
  {
   "cell_type": "code",
   "execution_count": 1,
   "id": "d7b5ccb9",
   "metadata": {},
   "outputs": [
    {
     "name": "stdout",
     "output_type": "stream",
     "text": [
      "True\n",
      "False\n"
     ]
    }
   ],
   "source": [
    "def is_palindrome(s):\n",
    "    i, j = 0, len(s) - 1\n",
    "    while i < j:\n",
    "        while i < j and not s[i].isalnum():\n",
    "            i += 1\n",
    "        while i < j and not s[j].isalnum():\n",
    "            j -= 1\n",
    "        if s[i].lower() != s[j].lower():\n",
    "            return False\n",
    "        i += 1\n",
    "        j -= 1\n",
    "    return True\n",
    "\n",
    "print(is_palindrome(\"A man, a plan, a canal: Panama\" ))\n",
    "print(is_palindrome(\"race a car\" ))"
   ]
  },
  {
   "cell_type": "code",
   "execution_count": 5,
   "id": "8654f21c",
   "metadata": {},
   "outputs": [
    {
     "name": "stdout",
     "output_type": "stream",
     "text": [
      "Enter your value: 8\n",
      "8\n",
      "2\n"
     ]
    }
   ],
   "source": [
    "val = int(input(\"Enter your value: \"))\n",
    "print(val)\n",
    "d=val**(1/2)\n",
    "print(int(d))"
   ]
  },
  {
   "cell_type": "code",
   "execution_count": 3,
   "id": "d366b894",
   "metadata": {},
   "outputs": [
    {
     "name": "stdout",
     "output_type": "stream",
     "text": [
      "['o', 'l', 'l', 'e', 'h']\n",
      "['h', 'a', 'n', 'n', 'a', 'H']\n"
     ]
    }
   ],
   "source": [
    "def reverse_string(s):\n",
    "    left = 0\n",
    "    right = len(s) - 1\n",
    "    while left < right:\n",
    "        s[left], s[right] = s[right], s[left]\n",
    "        left +=1\n",
    "        right -=1\n",
    "    return s\n",
    "\n",
    "\n",
    "print(reverse_string(['h','e','l','l','o']))\n",
    "print(reverse_string([\"H\",\"a\",\"n\",\"n\",\"a\",\"h\"]))"
   ]
  },
  {
   "cell_type": "code",
   "execution_count": null,
   "id": "8ddb91a1",
   "metadata": {},
   "outputs": [],
   "source": []
  }
 ],
 "metadata": {
  "kernelspec": {
   "display_name": "Python 3 (ipykernel)",
   "language": "python",
   "name": "python3"
  },
  "language_info": {
   "codemirror_mode": {
    "name": "ipython",
    "version": 3
   },
   "file_extension": ".py",
   "mimetype": "text/x-python",
   "name": "python",
   "nbconvert_exporter": "python",
   "pygments_lexer": "ipython3",
   "version": "3.9.12"
  }
 },
 "nbformat": 4,
 "nbformat_minor": 5
}
